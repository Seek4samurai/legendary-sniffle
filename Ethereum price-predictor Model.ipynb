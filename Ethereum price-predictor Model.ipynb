{
 "cells": [
  {
   "cell_type": "code",
   "execution_count": 2,
   "id": "bef6a91d",
   "metadata": {},
   "outputs": [],
   "source": [
    "import pandas as pd\n",
    "import numpy as np\n",
    "\n",
    "import yfinance as yf\n",
    "import seaborn as sns\n",
    "import matplotlib.pyplot as plt\n",
    "%matplotlib inline"
   ]
  },
  {
   "cell_type": "code",
   "execution_count": 4,
   "id": "f079d766",
   "metadata": {},
   "outputs": [
    {
     "name": "stdout",
     "output_type": "stream",
     "text": [
      "Enter the code of crypto: ETH-USD\n",
      "[*********************100%***********************]  1 of 1 completed\n"
     ]
    },
    {
     "data": {
      "text/html": [
       "<div>\n",
       "<style scoped>\n",
       "    .dataframe tbody tr th:only-of-type {\n",
       "        vertical-align: middle;\n",
       "    }\n",
       "\n",
       "    .dataframe tbody tr th {\n",
       "        vertical-align: top;\n",
       "    }\n",
       "\n",
       "    .dataframe thead th {\n",
       "        text-align: right;\n",
       "    }\n",
       "</style>\n",
       "<table border=\"1\" class=\"dataframe\">\n",
       "  <thead>\n",
       "    <tr style=\"text-align: right;\">\n",
       "      <th></th>\n",
       "      <th>Open</th>\n",
       "      <th>High</th>\n",
       "      <th>Low</th>\n",
       "      <th>Close</th>\n",
       "      <th>Volume</th>\n",
       "    </tr>\n",
       "    <tr>\n",
       "      <th>Date</th>\n",
       "      <th></th>\n",
       "      <th></th>\n",
       "      <th></th>\n",
       "      <th></th>\n",
       "      <th></th>\n",
       "    </tr>\n",
       "  </thead>\n",
       "  <tbody>\n",
       "    <tr>\n",
       "      <th>2017-11-09</th>\n",
       "      <td>308.644989</td>\n",
       "      <td>329.451996</td>\n",
       "      <td>307.056000</td>\n",
       "      <td>320.884003</td>\n",
       "      <td>893249984</td>\n",
       "    </tr>\n",
       "    <tr>\n",
       "      <th>2017-11-10</th>\n",
       "      <td>320.670990</td>\n",
       "      <td>324.717987</td>\n",
       "      <td>294.541992</td>\n",
       "      <td>299.252991</td>\n",
       "      <td>885985984</td>\n",
       "    </tr>\n",
       "    <tr>\n",
       "      <th>2017-11-11</th>\n",
       "      <td>298.585999</td>\n",
       "      <td>319.453003</td>\n",
       "      <td>298.191986</td>\n",
       "      <td>314.681000</td>\n",
       "      <td>842300992</td>\n",
       "    </tr>\n",
       "    <tr>\n",
       "      <th>2017-11-12</th>\n",
       "      <td>314.690002</td>\n",
       "      <td>319.153015</td>\n",
       "      <td>298.513000</td>\n",
       "      <td>307.907990</td>\n",
       "      <td>1613479936</td>\n",
       "    </tr>\n",
       "    <tr>\n",
       "      <th>2017-11-13</th>\n",
       "      <td>307.024994</td>\n",
       "      <td>328.415009</td>\n",
       "      <td>307.024994</td>\n",
       "      <td>316.716003</td>\n",
       "      <td>1041889984</td>\n",
       "    </tr>\n",
       "  </tbody>\n",
       "</table>\n",
       "</div>"
      ],
      "text/plain": [
       "                  Open        High         Low       Close      Volume\n",
       "Date                                                                  \n",
       "2017-11-09  308.644989  329.451996  307.056000  320.884003   893249984\n",
       "2017-11-10  320.670990  324.717987  294.541992  299.252991   885985984\n",
       "2017-11-11  298.585999  319.453003  298.191986  314.681000   842300992\n",
       "2017-11-12  314.690002  319.153015  298.513000  307.907990  1613479936\n",
       "2017-11-13  307.024994  328.415009  307.024994  316.716003  1041889984"
      ]
     },
     "execution_count": 4,
     "metadata": {},
     "output_type": "execute_result"
    }
   ],
   "source": [
    "crypto = input(\"Enter the code of crypto: \")\n",
    "data = yf.download(crypto, \"2008-01-01\", \"2022-01-01\", auto_adjust = True)\n",
    "data.head()"
   ]
  },
  {
   "cell_type": "code",
   "execution_count": 5,
   "id": "4d93eca1",
   "metadata": {},
   "outputs": [
    {
     "data": {
      "text/plain": [
       "(1514, 5)"
      ]
     },
     "execution_count": 5,
     "metadata": {},
     "output_type": "execute_result"
    }
   ],
   "source": [
    "data.shape"
   ]
  },
  {
   "cell_type": "code",
   "execution_count": 7,
   "id": "2e5a24ce",
   "metadata": {},
   "outputs": [
    {
     "data": {
      "text/html": [
       "<div>\n",
       "<style scoped>\n",
       "    .dataframe tbody tr th:only-of-type {\n",
       "        vertical-align: middle;\n",
       "    }\n",
       "\n",
       "    .dataframe tbody tr th {\n",
       "        vertical-align: top;\n",
       "    }\n",
       "\n",
       "    .dataframe thead th {\n",
       "        text-align: right;\n",
       "    }\n",
       "</style>\n",
       "<table border=\"1\" class=\"dataframe\">\n",
       "  <thead>\n",
       "    <tr style=\"text-align: right;\">\n",
       "      <th></th>\n",
       "      <th>Open</th>\n",
       "      <th>High</th>\n",
       "      <th>Low</th>\n",
       "      <th>Close</th>\n",
       "      <th>Volume</th>\n",
       "    </tr>\n",
       "  </thead>\n",
       "  <tbody>\n",
       "    <tr>\n",
       "      <th>count</th>\n",
       "      <td>1514.000000</td>\n",
       "      <td>1514.000000</td>\n",
       "      <td>1514.000000</td>\n",
       "      <td>1514.000000</td>\n",
       "      <td>1.514000e+03</td>\n",
       "    </tr>\n",
       "    <tr>\n",
       "      <th>mean</th>\n",
       "      <td>921.227919</td>\n",
       "      <td>954.071439</td>\n",
       "      <td>884.668193</td>\n",
       "      <td>923.175039</td>\n",
       "      <td>1.231976e+10</td>\n",
       "    </tr>\n",
       "    <tr>\n",
       "      <th>std</th>\n",
       "      <td>1176.283832</td>\n",
       "      <td>1216.149296</td>\n",
       "      <td>1131.144983</td>\n",
       "      <td>1177.667120</td>\n",
       "      <td>1.146376e+10</td>\n",
       "    </tr>\n",
       "    <tr>\n",
       "      <th>min</th>\n",
       "      <td>84.279694</td>\n",
       "      <td>85.342743</td>\n",
       "      <td>82.829887</td>\n",
       "      <td>84.308296</td>\n",
       "      <td>6.217330e+08</td>\n",
       "    </tr>\n",
       "    <tr>\n",
       "      <th>25%</th>\n",
       "      <td>188.990917</td>\n",
       "      <td>194.329247</td>\n",
       "      <td>184.756275</td>\n",
       "      <td>189.240353</td>\n",
       "      <td>2.888513e+09</td>\n",
       "    </tr>\n",
       "    <tr>\n",
       "      <th>50%</th>\n",
       "      <td>360.173828</td>\n",
       "      <td>371.713989</td>\n",
       "      <td>351.629303</td>\n",
       "      <td>360.169434</td>\n",
       "      <td>8.896970e+09</td>\n",
       "    </tr>\n",
       "    <tr>\n",
       "      <th>75%</th>\n",
       "      <td>1050.762451</td>\n",
       "      <td>1126.990021</td>\n",
       "      <td>992.614624</td>\n",
       "      <td>1052.662445</td>\n",
       "      <td>1.791995e+10</td>\n",
       "    </tr>\n",
       "    <tr>\n",
       "      <th>max</th>\n",
       "      <td>4810.071289</td>\n",
       "      <td>4891.704590</td>\n",
       "      <td>4718.039062</td>\n",
       "      <td>4812.087402</td>\n",
       "      <td>8.448291e+10</td>\n",
       "    </tr>\n",
       "  </tbody>\n",
       "</table>\n",
       "</div>"
      ],
      "text/plain": [
       "              Open         High          Low        Close        Volume\n",
       "count  1514.000000  1514.000000  1514.000000  1514.000000  1.514000e+03\n",
       "mean    921.227919   954.071439   884.668193   923.175039  1.231976e+10\n",
       "std    1176.283832  1216.149296  1131.144983  1177.667120  1.146376e+10\n",
       "min      84.279694    85.342743    82.829887    84.308296  6.217330e+08\n",
       "25%     188.990917   194.329247   184.756275   189.240353  2.888513e+09\n",
       "50%     360.173828   371.713989   351.629303   360.169434  8.896970e+09\n",
       "75%    1050.762451  1126.990021   992.614624  1052.662445  1.791995e+10\n",
       "max    4810.071289  4891.704590  4718.039062  4812.087402  8.448291e+10"
      ]
     },
     "execution_count": 7,
     "metadata": {},
     "output_type": "execute_result"
    }
   ],
   "source": [
    "data.describe()"
   ]
  },
  {
   "cell_type": "code",
   "execution_count": 11,
   "id": "74eb2996",
   "metadata": {},
   "outputs": [
    {
     "data": {
      "image/png": "[encoded data removed]",
      "text/plain": [
       "<Figure size 720x504 with 1 Axes>"
      ]
     },
     "metadata": {
      "needs_background": "light"
     },
     "output_type": "display_data"
    }
   ],
   "source": [
    "data.Close.plot(figsize=(10, 7), color=\"r\")\n",
    "plt.ylabel(\"{} Prices\".format(crypto))\n",
    "plt.title(\"{} Price series\".format(crypto))\n",
    "plt.show()"
   ]
  },
  {
   "cell_type": "code",
   "execution_count": 14,
   "id": "dd92c85b",
   "metadata": {},
   "outputs": [
    {
     "name": "stdout",
     "output_type": "stream",
     "text": [
      "(1211, 4)\n",
      "(303, 4)\n",
      "(1211,)\n",
      "(303,)\n"
     ]
    }
   ],
   "source": [
    "x = data.drop(\"Close\", axis = 1)\n",
    "y = data[\"Close\"]\n",
    "\n",
    "from sklearn.model_selection import train_test_split\n",
    "\n",
    "X_train, X_test, Y_train, Y_test = train_test_split(x, y, test_size = 0.2, random_state = 0)\n",
    "print(X_train.shape)\n",
    "print(X_test.shape)\n",
    "print(Y_train.shape)\n",
    "print(Y_test.shape)"
   ]
  },
  {
   "cell_type": "code",
   "execution_count": 15,
   "id": "d432c864",
   "metadata": {},
   "outputs": [],
   "source": [
    "from sklearn.linear_model import LinearRegression\n",
    "\n",
    "lr = LinearRegression()\n",
    "lr.fit(X_train, Y_train)\n",
    "predition_1 = lr.predict(X_test)"
   ]
  },
  {
   "cell_type": "code",
   "execution_count": 16,
   "id": "dab439b5",
   "metadata": {},
   "outputs": [
    {
     "data": {
      "text/plain": [
       "array([ 346.44927438, 4084.07256545, 1044.64093754,  275.89400636,\n",
       "        298.28859161, 3440.4023017 ,  201.9433232 ,  341.89850704,\n",
       "        765.73440818,  699.84151942,  392.77511136,  612.013394  ,\n",
       "        162.61603943,  227.05954253, 3827.68869109,  215.4082237 ,\n",
       "        135.4430721 ,  138.81802399,  137.72728544, 2718.22780987,\n",
       "        201.03554548,  168.01868874,  243.44909856,  405.44545117,\n",
       "        892.20601033,  171.32385091,  165.35294404,  168.75770883,\n",
       "        134.81328686,  191.09483025,  393.39162067, 1570.7332278 ,\n",
       "        116.66503649,  390.10200101, 3893.37936628,  222.33335381,\n",
       "       1319.89441464,  210.35452412, 2842.95633704,  238.11646273,\n",
       "        163.5858205 ,  174.82705523,  133.49470197, 1812.46231922,\n",
       "        104.32736723,  214.66112593,  136.97813734,  173.35916812,\n",
       "        241.52147274,  309.40306946, 2070.9516136 ,  121.23223279,\n",
       "        155.99684322, 2357.91123644,  172.58321887, 4180.61294266,\n",
       "        407.61065821,  161.55587296,  278.6566299 ,  412.47090049,\n",
       "        188.46091672,  407.3017582 ,  288.22717248, 3488.01283913,\n",
       "        228.76748457, 1734.59257756, 4162.1178479 , 1316.6038241 ,\n",
       "        497.34682321,  189.4210185 ,  185.08637312,  208.24941609,\n",
       "        226.50014211,  234.72311032,  577.00693445,  171.87389353,\n",
       "        242.88772187,  207.34595487,  109.50135125,  217.11555387,\n",
       "        470.3572623 ,  239.44139007,  219.51557879,  177.97818168,\n",
       "        262.46185383,  248.59225512,  212.26128847,  485.43974871,\n",
       "        212.5581968 , 2174.5393777 ,  122.78323653,  257.93000914,\n",
       "        693.33270539, 2878.8974368 ,  446.62347292,  183.06212104,\n",
       "        465.29326589,  236.33662718, 1095.98219016,  263.40677976,\n",
       "        381.44960682, 1779.19355815, 3122.59427508,  379.51425527,\n",
       "       4271.92807378, 2380.59890534,  738.227969  ,  169.54697357,\n",
       "       1089.94435218,  243.13781141,  164.2418206 , 2089.39295397,\n",
       "        188.46663164,   86.5117039 ,  703.40762922,  132.11125755,\n",
       "       2003.8519878 ,  508.30359329,  413.59854515, 3334.68809903,\n",
       "        444.30912966,  251.36172981,  116.6752304 ,  521.46268224,\n",
       "        213.07332434,  441.15177171,  537.25920794,  158.84287584,\n",
       "       4002.27175841, 1942.87362095,  215.7373521 ,  234.45416045,\n",
       "       1402.2484935 ,  713.69794514,  166.77745376,  660.08326811,\n",
       "        323.23296397,  316.01137463,  285.81635313,  337.81924209,\n",
       "        133.09030451,  748.59597262, 2763.46598714,  714.04569517,\n",
       "        116.26468246, 2168.96205251, 2958.90758103,  224.72321426,\n",
       "       1170.69354311,  450.29573397,  141.35290525,  459.61028198,\n",
       "        174.41139544, 3817.64347439, 3775.78941795,  185.93420479,\n",
       "        563.46849677,  183.79815089,  600.51521436, 1879.38876373,\n",
       "       4263.62867116,  424.13786022,  452.9338364 ,  381.83542321,\n",
       "        767.79017313,   89.10629457,  144.56257487,  743.64728363,\n",
       "        216.52203518,  334.68339526,  223.25757696,  116.46862781,\n",
       "        454.83820766, 2209.00529908,  524.73086322, 2138.47832505,\n",
       "        712.8852881 ,  141.90103734,  181.36268747,  200.13174194,\n",
       "        587.86419676,  424.97205977,  236.68721506,  123.55459109,\n",
       "       1206.21283095, 4469.51924034,  401.53815066, 3760.69065612,\n",
       "        230.69292997, 4101.92958057,  431.81172639,  274.48738639,\n",
       "       2002.89453703, 4140.76699292, 2539.45776129,  258.56601669,\n",
       "        186.28508261,  411.29447575,  390.05262026,  228.02238426,\n",
       "       1764.38223908,  206.39459241,  449.45098778,  174.3500807 ,\n",
       "        153.37558421,  314.0787489 ,  123.57972572,  847.51614019,\n",
       "       3073.28417355,  843.91221692,  192.08220776,  371.71567239,\n",
       "        352.59412442,  273.92405205,  208.88471948,  598.24423267,\n",
       "        185.40713323,  149.23064285,  683.29764622, 2331.84230257,\n",
       "        559.47185787, 1232.98401577, 3861.6917142 ,  647.10687766,\n",
       "       3501.41034246,  469.77486147,  567.42632121,  839.01119096,\n",
       "        177.18223872,  794.36505208,  835.31149326,  238.29646487,\n",
       "        154.92143993,  302.88038829,  107.11937079,  349.55995926,\n",
       "        304.48679411,  171.19811122,  280.82456216, 3141.18540026,\n",
       "       3495.88763337, 1811.04063201,  743.38510924,  206.51892108,\n",
       "        440.53839165, 1689.2474142 ,  558.4103108 ,  176.11042675,\n",
       "       3479.02034902,  145.53968004,  134.95207163,  208.47565429,\n",
       "        124.01123028,  132.53540745,  213.70642709,  858.16153632,\n",
       "        214.52090936,  425.60380919,  231.72510569,  507.49781485,\n",
       "        946.80127934,  113.3803622 ,  175.05717268,  245.03606641,\n",
       "        376.36358293,  143.1324212 ,  531.37102196,  138.6670642 ,\n",
       "        496.20259865,  141.03819348,  586.68760225,  363.26522108,\n",
       "        567.5207528 ,  222.29716875, 2127.09104699,  203.73518307,\n",
       "       1521.41014654,  459.48353133,  393.84954106,  178.49960719,\n",
       "        200.17271952,  379.32286807,  711.04616817,  128.13662207,\n",
       "        459.61082897,  357.75320254,  770.70143714,  133.68882576,\n",
       "        147.08507364,  222.49239981,  662.44737013,  239.88603838,\n",
       "       3400.4060272 , 3244.18555706, 3473.58402666,  187.19259343,\n",
       "       3315.68050842,  195.67157899, 4413.23026156,  392.01575114,\n",
       "        410.98996169,  243.72704001,  652.23615274])"
      ]
     },
     "execution_count": 16,
     "metadata": {},
     "output_type": "execute_result"
    }
   ],
   "source": [
    "predition_1"
   ]
  },
  {
   "cell_type": "code",
   "execution_count": 19,
   "id": "f51b7278",
   "metadata": {},
   "outputs": [
    {
     "name": "stdout",
     "output_type": "stream",
     "text": [
      "12.92179985967756\n",
      "3.5946905095818136\n",
      "0.9994394435304192\n"
     ]
    }
   ],
   "source": [
    "# MSE\n",
    "# RMSE\n",
    "# R^2 - squared\n",
    "\n",
    "from sklearn.metrics import mean_absolute_error, r2_score\n",
    "\n",
    "def calc_metric(y_test, y_pred):\n",
    "    mse = mean_absolute_error(y_test, y_pred)\n",
    "    rmse = np.sqrt(mse)\n",
    "    r2_scor = r2_score(y_test, y_pred)\n",
    "    \n",
    "    print(mse)\n",
    "    print(rmse)\n",
    "    print(r2_scor)\n",
    "\n",
    "calc_metric(Y_test, predition_1)"
   ]
  },
  {
   "cell_type": "code",
   "execution_count": null,
   "id": "bf07719b",
   "metadata": {},
   "outputs": [],
   "source": []
  },
  {
   "cell_type": "code",
   "execution_count": null,
   "id": "671c6dbf",
   "metadata": {},
   "outputs": [],
   "source": []
  },
  {
   "cell_type": "code",
   "execution_count": null,
   "id": "69964131",
   "metadata": {},
   "outputs": [],
   "source": []
  }
 ],
 "metadata": {
  "kernelspec": {
   "display_name": "Python 3 (ipykernel)",
   "language": "python",
   "name": "python3"
  },
  "language_info": {
   "codemirror_mode": {
    "name": "ipython",
    "version": 3
   },
   "file_extension": ".py",
   "mimetype": "text/x-python",
   "name": "python",
   "nbconvert_exporter": "python",
   "pygments_lexer": "ipython3",
   "version": "3.9.12"
  }
 },
 "nbformat": 4,
 "nbformat_minor": 5
}
